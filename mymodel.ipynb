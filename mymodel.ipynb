{
 "cells": [
  {
   "cell_type": "code",
   "execution_count": 1,
   "metadata": {},
   "outputs": [],
   "source": [
    "import os\n",
    "import pandas as pd\n",
    "import numpy as np\n",
    "import seaborn as sns\n",
    "import matplotlib.pyplot as plt\n",
    "from sys import platform\n",
    "from scr import cleaning\n",
    "from scr import models\n",
    "from scr import bestmodel\n",
    "from sklearn import metrics\n",
    "from sklearn.model_selection import train_test_split\n",
    "from sklearn.metrics import mean_squared_error"
   ]
  },
  {
   "cell_type": "code",
   "execution_count": 2,
   "metadata": {},
   "outputs": [],
   "source": [
    "from scr import cleaning"
   ]
  },
  {
   "cell_type": "code",
   "execution_count": 40,
   "metadata": {},
   "outputs": [],
   "source": [
    "#Loading dataset \n",
    "df_train,df_test = cleaning.import_data()"
   ]
  },
  {
   "cell_type": "markdown",
   "metadata": {},
   "source": [
    "## 1. Data exploration "
   ]
  },
  {
   "cell_type": "markdown",
   "metadata": {},
   "source": [
    "`df_train`"
   ]
  },
  {
   "cell_type": "code",
   "execution_count": 41,
   "metadata": {},
   "outputs": [
    {
     "name": "stdout",
     "output_type": "stream",
     "text": [
      "<bound method DataFrame.info of           id  carat        cut color clarity  depth  table     x     y     z  \\\n",
      "0          0   1.02       Good     D     VS2   63.2   58.0  6.36  6.40  4.03   \n",
      "1          1   0.35  Very Good     H    VVS2   61.0   57.0  4.54  4.57  2.77   \n",
      "2          2   0.31    Premium     H    VVS1   60.5   58.0  4.43  4.40  2.67   \n",
      "3          3   0.38      Ideal     E     VS1   61.4   56.0  4.66  4.69  2.87   \n",
      "4          4   1.64      Ideal     G    VVS2   61.8   56.0  7.59  7.60  4.69   \n",
      "...      ...    ...        ...   ...     ...    ...    ...   ...   ...   ...   \n",
      "40450  40450   1.20      Ideal     G    VVS2   62.2   55.0  6.77  6.81  4.23   \n",
      "40451  40451   1.50       Good     H     VS1   64.2   56.0  7.30  7.09  4.62   \n",
      "40452  40452   1.06      Ideal     E     VS2   61.9   55.0  6.54  6.58  4.06   \n",
      "40453  40453   0.31    Premium     D     SI2   60.1   58.0  4.40  4.38  2.64   \n",
      "40454  40454   2.00  Very Good     J     SI1   60.8   58.0  7.99  8.07  4.88   \n",
      "\n",
      "       price  \n",
      "0      8.928  \n",
      "1      6.477  \n",
      "2      6.810  \n",
      "3      6.824  \n",
      "4      9.776  \n",
      "...      ...  \n",
      "40450  9.149  \n",
      "40451  9.077  \n",
      "40452  8.892  \n",
      "40453  6.385  \n",
      "40454  9.455  \n",
      "\n",
      "[40455 rows x 11 columns]>\n",
      "id         0\n",
      "carat      0\n",
      "cut        0\n",
      "color      0\n",
      "clarity    0\n",
      "depth      0\n",
      "table      0\n",
      "x          0\n",
      "y          0\n",
      "z          0\n",
      "price      0\n",
      "dtype: int64\n",
      "<bound method NDFrame.describe of           id  carat        cut color clarity  depth  table     x     y     z  \\\n",
      "0          0   1.02       Good     D     VS2   63.2   58.0  6.36  6.40  4.03   \n",
      "1          1   0.35  Very Good     H    VVS2   61.0   57.0  4.54  4.57  2.77   \n",
      "2          2   0.31    Premium     H    VVS1   60.5   58.0  4.43  4.40  2.67   \n",
      "3          3   0.38      Ideal     E     VS1   61.4   56.0  4.66  4.69  2.87   \n",
      "4          4   1.64      Ideal     G    VVS2   61.8   56.0  7.59  7.60  4.69   \n",
      "...      ...    ...        ...   ...     ...    ...    ...   ...   ...   ...   \n",
      "40450  40450   1.20      Ideal     G    VVS2   62.2   55.0  6.77  6.81  4.23   \n",
      "40451  40451   1.50       Good     H     VS1   64.2   56.0  7.30  7.09  4.62   \n",
      "40452  40452   1.06      Ideal     E     VS2   61.9   55.0  6.54  6.58  4.06   \n",
      "40453  40453   0.31    Premium     D     SI2   60.1   58.0  4.40  4.38  2.64   \n",
      "40454  40454   2.00  Very Good     J     SI1   60.8   58.0  7.99  8.07  4.88   \n",
      "\n",
      "       price  \n",
      "0      8.928  \n",
      "1      6.477  \n",
      "2      6.810  \n",
      "3      6.824  \n",
      "4      9.776  \n",
      "...      ...  \n",
      "40450  9.149  \n",
      "40451  9.077  \n",
      "40452  8.892  \n",
      "40453  6.385  \n",
      "40454  9.455  \n",
      "\n",
      "[40455 rows x 11 columns]>\n",
      "None\n"
     ]
    }
   ],
   "source": [
    "print(cleaning.exploration(df_train))"
   ]
  },
  {
   "cell_type": "code",
   "execution_count": 42,
   "metadata": {},
   "outputs": [
    {
     "data": {
      "text/html": [
       "<div>\n",
       "<style scoped>\n",
       "    .dataframe tbody tr th:only-of-type {\n",
       "        vertical-align: middle;\n",
       "    }\n",
       "\n",
       "    .dataframe tbody tr th {\n",
       "        vertical-align: top;\n",
       "    }\n",
       "\n",
       "    .dataframe thead th {\n",
       "        text-align: right;\n",
       "    }\n",
       "</style>\n",
       "<table border=\"1\" class=\"dataframe\">\n",
       "  <thead>\n",
       "    <tr style=\"text-align: right;\">\n",
       "      <th></th>\n",
       "      <th>carat</th>\n",
       "      <th>cut</th>\n",
       "      <th>color</th>\n",
       "      <th>clarity</th>\n",
       "      <th>depth</th>\n",
       "      <th>table</th>\n",
       "      <th>x</th>\n",
       "      <th>y</th>\n",
       "      <th>z</th>\n",
       "      <th>price</th>\n",
       "    </tr>\n",
       "  </thead>\n",
       "  <tbody>\n",
       "    <tr>\n",
       "      <th>0</th>\n",
       "      <td>1.02</td>\n",
       "      <td>4</td>\n",
       "      <td>1</td>\n",
       "      <td>6</td>\n",
       "      <td>0.561111</td>\n",
       "      <td>0.288462</td>\n",
       "      <td>0.592179</td>\n",
       "      <td>0.201258</td>\n",
       "      <td>0.126730</td>\n",
       "      <td>8.928</td>\n",
       "    </tr>\n",
       "    <tr>\n",
       "      <th>1</th>\n",
       "      <td>0.35</td>\n",
       "      <td>3</td>\n",
       "      <td>5</td>\n",
       "      <td>4</td>\n",
       "      <td>0.500000</td>\n",
       "      <td>0.269231</td>\n",
       "      <td>0.422719</td>\n",
       "      <td>0.143711</td>\n",
       "      <td>0.087107</td>\n",
       "      <td>6.477</td>\n",
       "    </tr>\n",
       "    <tr>\n",
       "      <th>2</th>\n",
       "      <td>0.31</td>\n",
       "      <td>2</td>\n",
       "      <td>5</td>\n",
       "      <td>3</td>\n",
       "      <td>0.486111</td>\n",
       "      <td>0.288462</td>\n",
       "      <td>0.412477</td>\n",
       "      <td>0.138365</td>\n",
       "      <td>0.083962</td>\n",
       "      <td>6.810</td>\n",
       "    </tr>\n",
       "    <tr>\n",
       "      <th>3</th>\n",
       "      <td>0.38</td>\n",
       "      <td>1</td>\n",
       "      <td>2</td>\n",
       "      <td>5</td>\n",
       "      <td>0.511111</td>\n",
       "      <td>0.250000</td>\n",
       "      <td>0.433892</td>\n",
       "      <td>0.147484</td>\n",
       "      <td>0.090252</td>\n",
       "      <td>6.824</td>\n",
       "    </tr>\n",
       "    <tr>\n",
       "      <th>4</th>\n",
       "      <td>1.64</td>\n",
       "      <td>1</td>\n",
       "      <td>4</td>\n",
       "      <td>4</td>\n",
       "      <td>0.522222</td>\n",
       "      <td>0.250000</td>\n",
       "      <td>0.706704</td>\n",
       "      <td>0.238994</td>\n",
       "      <td>0.147484</td>\n",
       "      <td>9.776</td>\n",
       "    </tr>\n",
       "    <tr>\n",
       "      <th>...</th>\n",
       "      <td>...</td>\n",
       "      <td>...</td>\n",
       "      <td>...</td>\n",
       "      <td>...</td>\n",
       "      <td>...</td>\n",
       "      <td>...</td>\n",
       "      <td>...</td>\n",
       "      <td>...</td>\n",
       "      <td>...</td>\n",
       "      <td>...</td>\n",
       "    </tr>\n",
       "    <tr>\n",
       "      <th>40450</th>\n",
       "      <td>1.20</td>\n",
       "      <td>1</td>\n",
       "      <td>4</td>\n",
       "      <td>4</td>\n",
       "      <td>0.533333</td>\n",
       "      <td>0.230769</td>\n",
       "      <td>0.630354</td>\n",
       "      <td>0.214151</td>\n",
       "      <td>0.133019</td>\n",
       "      <td>9.149</td>\n",
       "    </tr>\n",
       "    <tr>\n",
       "      <th>40451</th>\n",
       "      <td>1.50</td>\n",
       "      <td>4</td>\n",
       "      <td>5</td>\n",
       "      <td>5</td>\n",
       "      <td>0.588889</td>\n",
       "      <td>0.250000</td>\n",
       "      <td>0.679702</td>\n",
       "      <td>0.222956</td>\n",
       "      <td>0.145283</td>\n",
       "      <td>9.077</td>\n",
       "    </tr>\n",
       "    <tr>\n",
       "      <th>40452</th>\n",
       "      <td>1.06</td>\n",
       "      <td>1</td>\n",
       "      <td>2</td>\n",
       "      <td>6</td>\n",
       "      <td>0.525000</td>\n",
       "      <td>0.230769</td>\n",
       "      <td>0.608939</td>\n",
       "      <td>0.206918</td>\n",
       "      <td>0.127673</td>\n",
       "      <td>8.892</td>\n",
       "    </tr>\n",
       "    <tr>\n",
       "      <th>40453</th>\n",
       "      <td>0.31</td>\n",
       "      <td>2</td>\n",
       "      <td>1</td>\n",
       "      <td>8</td>\n",
       "      <td>0.475000</td>\n",
       "      <td>0.288462</td>\n",
       "      <td>0.409683</td>\n",
       "      <td>0.137736</td>\n",
       "      <td>0.083019</td>\n",
       "      <td>6.385</td>\n",
       "    </tr>\n",
       "    <tr>\n",
       "      <th>40454</th>\n",
       "      <td>2.00</td>\n",
       "      <td>3</td>\n",
       "      <td>7</td>\n",
       "      <td>7</td>\n",
       "      <td>0.494444</td>\n",
       "      <td>0.288462</td>\n",
       "      <td>0.743948</td>\n",
       "      <td>0.253774</td>\n",
       "      <td>0.153459</td>\n",
       "      <td>9.455</td>\n",
       "    </tr>\n",
       "  </tbody>\n",
       "</table>\n",
       "<p>40455 rows × 10 columns</p>\n",
       "</div>"
      ],
      "text/plain": [
       "       carat  cut  color  clarity     depth     table         x         y  \\\n",
       "0       1.02    4      1        6  0.561111  0.288462  0.592179  0.201258   \n",
       "1       0.35    3      5        4  0.500000  0.269231  0.422719  0.143711   \n",
       "2       0.31    2      5        3  0.486111  0.288462  0.412477  0.138365   \n",
       "3       0.38    1      2        5  0.511111  0.250000  0.433892  0.147484   \n",
       "4       1.64    1      4        4  0.522222  0.250000  0.706704  0.238994   \n",
       "...      ...  ...    ...      ...       ...       ...       ...       ...   \n",
       "40450   1.20    1      4        4  0.533333  0.230769  0.630354  0.214151   \n",
       "40451   1.50    4      5        5  0.588889  0.250000  0.679702  0.222956   \n",
       "40452   1.06    1      2        6  0.525000  0.230769  0.608939  0.206918   \n",
       "40453   0.31    2      1        8  0.475000  0.288462  0.409683  0.137736   \n",
       "40454   2.00    3      7        7  0.494444  0.288462  0.743948  0.253774   \n",
       "\n",
       "              z  price  \n",
       "0      0.126730  8.928  \n",
       "1      0.087107  6.477  \n",
       "2      0.083962  6.810  \n",
       "3      0.090252  6.824  \n",
       "4      0.147484  9.776  \n",
       "...         ...    ...  \n",
       "40450  0.133019  9.149  \n",
       "40451  0.145283  9.077  \n",
       "40452  0.127673  8.892  \n",
       "40453  0.083019  6.385  \n",
       "40454  0.153459  9.455  \n",
       "\n",
       "[40455 rows x 10 columns]"
      ]
     },
     "execution_count": 42,
     "metadata": {},
     "output_type": "execute_result"
    }
   ],
   "source": [
    "df_train = cleaning.cleaning(df_train)\n",
    "df_train = df_train.drop(\"id\", axis=1)\n",
    "df_train"
   ]
  },
  {
   "cell_type": "code",
   "execution_count": 43,
   "metadata": {},
   "outputs": [],
   "source": [
    "df_train.drop_duplicates(inplace= True)"
   ]
  },
  {
   "cell_type": "markdown",
   "metadata": {},
   "source": [
    "`Heatmap: Which are the most correlated columns?`"
   ]
  },
  {
   "cell_type": "code",
   "execution_count": 44,
   "metadata": {},
   "outputs": [
    {
     "data": {
      "text/plain": [
       "<Axes: >"
      ]
     },
     "execution_count": 44,
     "metadata": {},
     "output_type": "execute_result"
    },
    {
     "data": {
      "image/png": "[encoded data removed]",
      "text/plain": [
       "<Figure size 1000x800 with 2 Axes>"
      ]
     },
     "metadata": {},
     "output_type": "display_data"
    }
   ],
   "source": [
    "plt.figure(figsize=(10, 8))\n",
    "train_corr = df_train.corr()\n",
    "mask = np.triu(np.ones_like(df_train.corr()), k=0)\n",
    "sns.heatmap(train_corr, annot= True, mask=mask, linewidths=0.5)"
   ]
  },
  {
   "cell_type": "markdown",
   "metadata": {},
   "source": [
    "`Dropping columns with high relationship`"
   ]
  },
  {
   "cell_type": "code",
   "execution_count": 45,
   "metadata": {},
   "outputs": [],
   "source": [
    "df_train = df_train.drop(columns= [\"depth\",\"y\"])"
   ]
  },
  {
   "cell_type": "code",
   "execution_count": 46,
   "metadata": {},
   "outputs": [
    {
     "data": {
      "text/plain": [
       "<Axes: >"
      ]
     },
     "execution_count": 46,
     "metadata": {},
     "output_type": "execute_result"
    },
    {
     "data": {
      "image/png": "[encoded data removed]",
      "text/plain": [
       "<Figure size 1000x800 with 2 Axes>"
      ]
     },
     "metadata": {},
     "output_type": "display_data"
    }
   ],
   "source": [
    "plt.figure(figsize=(10, 8))\n",
    "train_2corr = df_train.corr()\n",
    "mask1 = np.triu(np.ones_like(df_train.corr()), k=0)\n",
    "sns.heatmap(train_2corr, annot= True, mask=mask1, linewidths=0.5)"
   ]
  },
  {
   "cell_type": "code",
   "execution_count": 47,
   "metadata": {},
   "outputs": [],
   "source": [
    "X = df_train.iloc[:,:-1]\n",
    "y = df_train['price']"
   ]
  },
  {
   "cell_type": "markdown",
   "metadata": {},
   "source": [
    "`65:35 dataset split`"
   ]
  },
  {
   "cell_type": "code",
   "execution_count": 48,
   "metadata": {},
   "outputs": [],
   "source": [
    "X_train, X_test, y_train, y_test = models.split_65(X,y)"
   ]
  },
  {
   "cell_type": "code",
   "execution_count": 49,
   "metadata": {},
   "outputs": [
    {
     "name": "stdout",
     "output_type": "stream",
     "text": [
      "Training: LinReg\n",
      "{'carat': -0.691267831378876, 'cut': 0.0006666586541430597, 'color': -0.07798376531784057, 'clarity': -0.11579537870214374, 'table': -0.3974436885904966, 'x': 12.53597778536881, 'z': 4.374336484623752}\n",
      "Training: LinRidge\n",
      "{'carat': -0.49151507561762786, 'cut': -0.000269425855169428, 'color': -0.07864288502012098, 'clarity': -0.11395016671345397, 'table': -0.3664752609983233, 'x': 11.816090512017222, 'z': 3.325465445050619}\n",
      "Training: LinLasso\n",
      "{'carat': 0.0, 'cut': 0.0, 'color': 0.0, 'clarity': 0.0, 'table': 0.0, 'x': 0.0, 'z': 0.0}\n",
      "Training: SGD\n",
      "{'carat': 1.4928841239170285, 'cut': -0.037934812734372304, 'color': -0.08719834163861304, 'clarity': -0.09337216052007986, 'table': 1.088632651054104, 'x': 3.027316625394849, 'z': 0.6357848724599697}\n",
      "Training: knn\n",
      "Feature ranking not available for knn\n",
      "Training: grad\n",
      "{'carat': 0.6453790362570659, 'cut': 0.0012321486785162726, 'color': 0.011963969324424794, 'clarity': 0.029676993551999487, 'table': 7.852143438245508e-05, 'x': 0.29183292524662063, 'z': 0.019836405506990458}\n",
      "Training: svr\n",
      "Feature ranking not available for svr\n",
      "Training: rf\n",
      "{'carat': 0.5220203026002669, 'cut': 0.002003325981151651, 'color': 0.01490662464594248, 'clarity': 0.03202470919882583, 'table': 0.0017886206497832965, 'x': 0.42409928893223475, 'z': 0.003157127991795192}\n"
     ]
    }
   ],
   "source": [
    "models.training(X_train, y_train)"
   ]
  },
  {
   "cell_type": "code",
   "execution_count": 50,
   "metadata": {},
   "outputs": [
    {
     "name": "stdout",
     "output_type": "stream",
     "text": [
      "------------LinReg------------\n",
      "\n",
      "MAE, error: 0.12740786832017623\n",
      "MSE, error: 0.03212795529890623\n",
      "RMSE, error: 0.17924272732500537\n",
      "r2: 0.9683312189085844\n",
      "\n",
      "\n",
      "------------LinRidge------------\n",
      "\n",
      "MAE, error: 0.1312907467018897\n",
      "MSE, error: 0.033032483894594844\n",
      "RMSE, error: 0.1817484082312548\n",
      "r2: 0.9674396178769817\n",
      "\n",
      "\n",
      "------------LinLasso------------\n",
      "\n",
      "MAE, error: 0.8708343594857448\n",
      "MSE, error: 1.0145047433194567\n",
      "RMSE, error: 1.0072262622268429\n",
      "r2: -5.395098405802656e-06\n",
      "\n",
      "\n",
      "------------SGD------------\n",
      "\n",
      "MAE, error: 0.2289651800335332\n",
      "MSE, error: 0.08711228443099045\n",
      "RMSE, error: 0.2951479026369499\n",
      "r2: 0.9141327283248527\n",
      "\n",
      "\n",
      "------------knn------------\n",
      "\n",
      "MAE, error: 0.09604363275996318\n",
      "MSE, error: 0.022771245637431863\n",
      "RMSE, error: 0.15090144345708514\n",
      "r2: 0.9775542020473605\n",
      "\n",
      "\n",
      "------------grad------------\n",
      "\n",
      "MAE, error: 0.08257667686757013\n",
      "MSE, error: 0.011872551987391606\n",
      "RMSE, error: 0.1089612407573978\n",
      "r2: 0.988297131068968\n",
      "\n",
      "\n",
      "------------svr------------\n",
      "\n",
      "MAE, error: 0.10419004969566856\n",
      "MSE, error: 0.017584273520950322\n",
      "RMSE, error: 0.13260570696976176\n",
      "r2: 0.9826670417209679\n",
      "\n",
      "\n",
      "------------rf------------\n",
      "\n",
      "MAE, error: 0.07850055380548093\n",
      "MSE, error: 0.011193975339657032\n",
      "RMSE, error: 0.1058015847691188\n",
      "r2: 0.9889660094681976\n",
      "\n",
      "\n"
     ]
    }
   ],
   "source": [
    "models.assess_models(X_test, y_test)"
   ]
  },
  {
   "cell_type": "markdown",
   "metadata": {},
   "source": [
    "`Best model performing: GradientBoostingRegressor()` with a correlation coefficient (r2) of 0.9889\n",
    "\n",
    "Use `GridSearch` to obtain the best combination"
   ]
  },
  {
   "cell_type": "code",
   "execution_count": 51,
   "metadata": {},
   "outputs": [
    {
     "name": "stdout",
     "output_type": "stream",
     "text": [
      "{'max_depth': 10, 'n_estimators': 100}\n",
      "Best score:  0.9897460826111473\n"
     ]
    }
   ],
   "source": [
    "from sklearn.model_selection import GridSearchCV\n",
    "from sklearn.ensemble import RandomForestRegressor, GradientBoostingRegressor\n",
    "\n",
    "#Hyperparameter tuning\n",
    "gradient_param = {\n",
    "    'max_depth': [10, 15, 20], \n",
    "    'n_estimators': [100, 200, 500]}\n",
    "\n",
    "gradientgrid = GridSearchCV(GradientBoostingRegressor(random_state=79), gradient_param)\n",
    "gradientgrid.fit(X_train, y_train)\n",
    "print(gradientgrid.best_params_)\n",
    "print('Best score: ', gradientgrid.best_score_)"
   ]
  },
  {
   "cell_type": "markdown",
   "metadata": {},
   "source": [
    "`Second best model performing: RandomForestRegressor()` with a correlation coefficient (r2) of 0.9885\n",
    "\n",
    "Use `GridSearch` to obtain the best combination"
   ]
  },
  {
   "cell_type": "code",
   "execution_count": 52,
   "metadata": {},
   "outputs": [
    {
     "name": "stdout",
     "output_type": "stream",
     "text": [
      "{'max_depth': 15, 'n_estimators': 500}\n",
      "Best score:  0.9894093842403031\n"
     ]
    }
   ],
   "source": [
    "#Hyperparameter tuning\n",
    "randforest_param = {\n",
    "    'max_depth': [10, 15, 20], \n",
    "    'n_estimators': [100, 200, 500]}\n",
    "\n",
    "forestgrid = GridSearchCV(RandomForestRegressor(random_state=79), randforest_param)\n",
    "forestgrid.fit(X_train, y_train)\n",
    "print(forestgrid.best_params_)\n",
    "print('Best score: ', forestgrid.best_score_)"
   ]
  },
  {
   "cell_type": "markdown",
   "metadata": {},
   "source": [
    "`Training again :)`"
   ]
  },
  {
   "cell_type": "code",
   "execution_count": 53,
   "metadata": {},
   "outputs": [
    {
     "name": "stdout",
     "output_type": "stream",
     "text": [
      "MAE, error: 0.07742831848001967\n",
      "MSE, error: 0.010743651030290298\n",
      "RMSE, error: 0.1036515847939157\n",
      "r2: 0.9894098977219254\n"
     ]
    }
   ],
   "source": [
    "#Random Forest Regressor\n",
    "rf_model = RandomForestRegressor(max_depth= 15, n_estimators= 500)\n",
    "rf_model.fit(X_train, y_train)\n",
    "y_pred_rf = rf_model.predict(X_test)\n",
    "print(f\"MAE, error: {metrics.mean_absolute_error(y_test, y_pred_rf)}\")\n",
    "print(f\"MSE, error: {metrics.mean_squared_error(y_test, y_pred_rf)}\")\n",
    "print(f\"RMSE, error: {np.sqrt(metrics.mean_squared_error(y_test, y_pred_rf))}\")\n",
    "print(f\"r2: {metrics.r2_score(y_test, y_pred_rf)}\")"
   ]
  },
  {
   "cell_type": "code",
   "execution_count": 54,
   "metadata": {},
   "outputs": [
    {
     "name": "stdout",
     "output_type": "stream",
     "text": [
      "MAE, error: 0.0747574276666199\n",
      "MSE, error: 0.010247259142582251\n",
      "RMSE, error: 0.10122874662161066\n",
      "r2: 0.9898991951540567\n"
     ]
    }
   ],
   "source": [
    "#Gradient Boosting Regresor\n",
    "gb_model = GradientBoostingRegressor(max_depth= 10, n_estimators= 100)\n",
    "gb_model.fit(X_train, y_train)\n",
    "y_pred_gb = gb_model.predict(X_test)\n",
    "print(f\"MAE, error: {metrics.mean_absolute_error(y_test, y_pred_gb)}\")\n",
    "print(f\"MSE, error: {metrics.mean_squared_error(y_test, y_pred_gb)}\")\n",
    "print(f\"RMSE, error: {np.sqrt(metrics.mean_squared_error(y_test, y_pred_gb))}\")\n",
    "print(f\"r2: {metrics.r2_score(y_test, y_pred_gb)}\")"
   ]
  },
  {
   "cell_type": "markdown",
   "metadata": {},
   "source": [
    "`df test`"
   ]
  },
  {
   "cell_type": "code",
   "execution_count": 57,
   "metadata": {},
   "outputs": [],
   "source": [
    "df_test = pd.read_csv(\"../lab-machine-learning-pipeline/data/test.csv\")"
   ]
  },
  {
   "cell_type": "code",
   "execution_count": 58,
   "metadata": {},
   "outputs": [
    {
     "name": "stdout",
     "output_type": "stream",
     "text": [
      "<bound method DataFrame.info of           id  carat        cut color clarity  depth  table     x     y     z\n",
      "0          0   0.81      Ideal     F     SI1   61.5   57.0  6.01  6.06  3.71\n",
      "1          1   0.50       Fair     F      I1   63.8   58.0  5.08  4.97  3.21\n",
      "2          2   0.31      Ideal     D    VVS2   60.1   56.0  4.43  4.46  2.67\n",
      "3          3   1.52       Fair     I     SI2   64.7   58.0  7.19  7.22  4.66\n",
      "4          4   0.35    Premium     D    VVS1   60.8   58.0  4.55  4.53  2.76\n",
      "...      ...    ...        ...   ...     ...    ...    ...   ...   ...   ...\n",
      "13480  13480   0.52      Ideal     D    VVS2   61.4   56.0  5.23  5.20  3.20\n",
      "13481  13481   1.01  Very Good     E     VS2   59.3   59.0  6.50  6.56  3.87\n",
      "13482  13482   1.50    Premium     H     VS2   60.6   61.0  7.34  7.31  4.44\n",
      "13483  13483   0.40      Ideal     E    VVS2   62.5   54.0  4.75  4.76  2.97\n",
      "13484  13484   2.01    Premium     H     VS2   61.6   61.0  8.14  8.07  4.99\n",
      "\n",
      "[13485 rows x 10 columns]>\n",
      "id         0\n",
      "carat      0\n",
      "cut        0\n",
      "color      0\n",
      "clarity    0\n",
      "depth      0\n",
      "table      0\n",
      "x          0\n",
      "y          0\n",
      "z          0\n",
      "dtype: int64\n",
      "<bound method NDFrame.describe of           id  carat        cut color clarity  depth  table     x     y     z\n",
      "0          0   0.81      Ideal     F     SI1   61.5   57.0  6.01  6.06  3.71\n",
      "1          1   0.50       Fair     F      I1   63.8   58.0  5.08  4.97  3.21\n",
      "2          2   0.31      Ideal     D    VVS2   60.1   56.0  4.43  4.46  2.67\n",
      "3          3   1.52       Fair     I     SI2   64.7   58.0  7.19  7.22  4.66\n",
      "4          4   0.35    Premium     D    VVS1   60.8   58.0  4.55  4.53  2.76\n",
      "...      ...    ...        ...   ...     ...    ...    ...   ...   ...   ...\n",
      "13480  13480   0.52      Ideal     D    VVS2   61.4   56.0  5.23  5.20  3.20\n",
      "13481  13481   1.01  Very Good     E     VS2   59.3   59.0  6.50  6.56  3.87\n",
      "13482  13482   1.50    Premium     H     VS2   60.6   61.0  7.34  7.31  4.44\n",
      "13483  13483   0.40      Ideal     E    VVS2   62.5   54.0  4.75  4.76  2.97\n",
      "13484  13484   2.01    Premium     H     VS2   61.6   61.0  8.14  8.07  4.99\n",
      "\n",
      "[13485 rows x 10 columns]>\n",
      "None\n"
     ]
    }
   ],
   "source": [
    "print(cleaning.exploration(df_test))"
   ]
  },
  {
   "cell_type": "code",
   "execution_count": 59,
   "metadata": {},
   "outputs": [
    {
     "data": {
      "text/plain": [
       "0"
      ]
     },
     "execution_count": 59,
     "metadata": {},
     "output_type": "execute_result"
    }
   ],
   "source": [
    "df_test.duplicated().sum()"
   ]
  },
  {
   "cell_type": "code",
   "execution_count": 60,
   "metadata": {},
   "outputs": [
    {
     "data": {
      "text/html": [
       "<div>\n",
       "<style scoped>\n",
       "    .dataframe tbody tr th:only-of-type {\n",
       "        vertical-align: middle;\n",
       "    }\n",
       "\n",
       "    .dataframe tbody tr th {\n",
       "        vertical-align: top;\n",
       "    }\n",
       "\n",
       "    .dataframe thead th {\n",
       "        text-align: right;\n",
       "    }\n",
       "</style>\n",
       "<table border=\"1\" class=\"dataframe\">\n",
       "  <thead>\n",
       "    <tr style=\"text-align: right;\">\n",
       "      <th></th>\n",
       "      <th>id</th>\n",
       "      <th>carat</th>\n",
       "      <th>cut</th>\n",
       "      <th>color</th>\n",
       "      <th>clarity</th>\n",
       "      <th>depth</th>\n",
       "      <th>table</th>\n",
       "      <th>x</th>\n",
       "      <th>y</th>\n",
       "      <th>z</th>\n",
       "    </tr>\n",
       "  </thead>\n",
       "  <tbody>\n",
       "    <tr>\n",
       "      <th>0</th>\n",
       "      <td>0</td>\n",
       "      <td>0.81</td>\n",
       "      <td>1</td>\n",
       "      <td>3</td>\n",
       "      <td>7</td>\n",
       "      <td>0.513889</td>\n",
       "      <td>0.448276</td>\n",
       "      <td>0.592702</td>\n",
       "      <td>0.102886</td>\n",
       "      <td>0.460298</td>\n",
       "    </tr>\n",
       "    <tr>\n",
       "      <th>1</th>\n",
       "      <td>1</td>\n",
       "      <td>0.50</td>\n",
       "      <td>5</td>\n",
       "      <td>3</td>\n",
       "      <td>9</td>\n",
       "      <td>0.577778</td>\n",
       "      <td>0.482759</td>\n",
       "      <td>0.500986</td>\n",
       "      <td>0.084380</td>\n",
       "      <td>0.398263</td>\n",
       "    </tr>\n",
       "    <tr>\n",
       "      <th>2</th>\n",
       "      <td>2</td>\n",
       "      <td>0.31</td>\n",
       "      <td>1</td>\n",
       "      <td>1</td>\n",
       "      <td>4</td>\n",
       "      <td>0.475000</td>\n",
       "      <td>0.413793</td>\n",
       "      <td>0.436884</td>\n",
       "      <td>0.075722</td>\n",
       "      <td>0.331266</td>\n",
       "    </tr>\n",
       "    <tr>\n",
       "      <th>3</th>\n",
       "      <td>3</td>\n",
       "      <td>1.52</td>\n",
       "      <td>5</td>\n",
       "      <td>6</td>\n",
       "      <td>8</td>\n",
       "      <td>0.602778</td>\n",
       "      <td>0.482759</td>\n",
       "      <td>0.709073</td>\n",
       "      <td>0.122581</td>\n",
       "      <td>0.578164</td>\n",
       "    </tr>\n",
       "    <tr>\n",
       "      <th>4</th>\n",
       "      <td>4</td>\n",
       "      <td>0.35</td>\n",
       "      <td>2</td>\n",
       "      <td>1</td>\n",
       "      <td>3</td>\n",
       "      <td>0.494444</td>\n",
       "      <td>0.482759</td>\n",
       "      <td>0.448718</td>\n",
       "      <td>0.076910</td>\n",
       "      <td>0.342432</td>\n",
       "    </tr>\n",
       "    <tr>\n",
       "      <th>...</th>\n",
       "      <td>...</td>\n",
       "      <td>...</td>\n",
       "      <td>...</td>\n",
       "      <td>...</td>\n",
       "      <td>...</td>\n",
       "      <td>...</td>\n",
       "      <td>...</td>\n",
       "      <td>...</td>\n",
       "      <td>...</td>\n",
       "      <td>...</td>\n",
       "    </tr>\n",
       "    <tr>\n",
       "      <th>13480</th>\n",
       "      <td>13480</td>\n",
       "      <td>0.52</td>\n",
       "      <td>1</td>\n",
       "      <td>1</td>\n",
       "      <td>4</td>\n",
       "      <td>0.511111</td>\n",
       "      <td>0.413793</td>\n",
       "      <td>0.515779</td>\n",
       "      <td>0.088285</td>\n",
       "      <td>0.397022</td>\n",
       "    </tr>\n",
       "    <tr>\n",
       "      <th>13481</th>\n",
       "      <td>13481</td>\n",
       "      <td>1.01</td>\n",
       "      <td>3</td>\n",
       "      <td>2</td>\n",
       "      <td>6</td>\n",
       "      <td>0.452778</td>\n",
       "      <td>0.517241</td>\n",
       "      <td>0.641026</td>\n",
       "      <td>0.111375</td>\n",
       "      <td>0.480149</td>\n",
       "    </tr>\n",
       "    <tr>\n",
       "      <th>13482</th>\n",
       "      <td>13482</td>\n",
       "      <td>1.50</td>\n",
       "      <td>2</td>\n",
       "      <td>5</td>\n",
       "      <td>6</td>\n",
       "      <td>0.488889</td>\n",
       "      <td>0.586207</td>\n",
       "      <td>0.723866</td>\n",
       "      <td>0.124109</td>\n",
       "      <td>0.550868</td>\n",
       "    </tr>\n",
       "    <tr>\n",
       "      <th>13483</th>\n",
       "      <td>13483</td>\n",
       "      <td>0.40</td>\n",
       "      <td>1</td>\n",
       "      <td>2</td>\n",
       "      <td>4</td>\n",
       "      <td>0.541667</td>\n",
       "      <td>0.344828</td>\n",
       "      <td>0.468442</td>\n",
       "      <td>0.080815</td>\n",
       "      <td>0.368486</td>\n",
       "    </tr>\n",
       "    <tr>\n",
       "      <th>13484</th>\n",
       "      <td>13484</td>\n",
       "      <td>2.01</td>\n",
       "      <td>2</td>\n",
       "      <td>5</td>\n",
       "      <td>6</td>\n",
       "      <td>0.516667</td>\n",
       "      <td>0.586207</td>\n",
       "      <td>0.802761</td>\n",
       "      <td>0.137012</td>\n",
       "      <td>0.619107</td>\n",
       "    </tr>\n",
       "  </tbody>\n",
       "</table>\n",
       "<p>13485 rows × 10 columns</p>\n",
       "</div>"
      ],
      "text/plain": [
       "          id  carat  cut  color  clarity     depth     table         x  \\\n",
       "0          0   0.81    1      3        7  0.513889  0.448276  0.592702   \n",
       "1          1   0.50    5      3        9  0.577778  0.482759  0.500986   \n",
       "2          2   0.31    1      1        4  0.475000  0.413793  0.436884   \n",
       "3          3   1.52    5      6        8  0.602778  0.482759  0.709073   \n",
       "4          4   0.35    2      1        3  0.494444  0.482759  0.448718   \n",
       "...      ...    ...  ...    ...      ...       ...       ...       ...   \n",
       "13480  13480   0.52    1      1        4  0.511111  0.413793  0.515779   \n",
       "13481  13481   1.01    3      2        6  0.452778  0.517241  0.641026   \n",
       "13482  13482   1.50    2      5        6  0.488889  0.586207  0.723866   \n",
       "13483  13483   0.40    1      2        4  0.541667  0.344828  0.468442   \n",
       "13484  13484   2.01    2      5        6  0.516667  0.586207  0.802761   \n",
       "\n",
       "              y         z  \n",
       "0      0.102886  0.460298  \n",
       "1      0.084380  0.398263  \n",
       "2      0.075722  0.331266  \n",
       "3      0.122581  0.578164  \n",
       "4      0.076910  0.342432  \n",
       "...         ...       ...  \n",
       "13480  0.088285  0.397022  \n",
       "13481  0.111375  0.480149  \n",
       "13482  0.124109  0.550868  \n",
       "13483  0.080815  0.368486  \n",
       "13484  0.137012  0.619107  \n",
       "\n",
       "[13485 rows x 10 columns]"
      ]
     },
     "execution_count": 60,
     "metadata": {},
     "output_type": "execute_result"
    }
   ],
   "source": [
    "df_test = cleaning.cleaning(df_test)\n",
    "df_test"
   ]
  },
  {
   "cell_type": "code",
   "execution_count": 61,
   "metadata": {},
   "outputs": [],
   "source": [
    "df_new_test = df_test.drop(columns= [\"id\",\"depth\", \"y\"])"
   ]
  },
  {
   "cell_type": "code",
   "execution_count": 62,
   "metadata": {},
   "outputs": [],
   "source": [
    "y_pred_test = gb_model.predict(df_new_test)"
   ]
  },
  {
   "cell_type": "code",
   "execution_count": 63,
   "metadata": {},
   "outputs": [
    {
     "name": "stdout",
     "output_type": "stream",
     "text": [
      "Length of y_pred_rf: 13485\n",
      "Length of df_test before reset: 13485\n"
     ]
    }
   ],
   "source": [
    "print(\"Length of y_pred_rf:\", len(y_pred_test))\n",
    "print(\"Length of df_test before reset:\", len(df_test))\n"
   ]
  },
  {
   "cell_type": "code",
   "execution_count": 64,
   "metadata": {},
   "outputs": [],
   "source": [
    "df_test = df_test.reset_index(drop=True)\n",
    "\n",
    "df_for_submission = pd.DataFrame({'id': df_test['id'], 'price': y_pred_test})"
   ]
  },
  {
   "cell_type": "code",
   "execution_count": 65,
   "metadata": {},
   "outputs": [
    {
     "name": "stdout",
     "output_type": "stream",
     "text": [
      "13485\n"
     ]
    },
    {
     "data": {
      "text/html": [
       "<div>\n",
       "<style scoped>\n",
       "    .dataframe tbody tr th:only-of-type {\n",
       "        vertical-align: middle;\n",
       "    }\n",
       "\n",
       "    .dataframe tbody tr th {\n",
       "        vertical-align: top;\n",
       "    }\n",
       "\n",
       "    .dataframe thead th {\n",
       "        text-align: right;\n",
       "    }\n",
       "</style>\n",
       "<table border=\"1\" class=\"dataframe\">\n",
       "  <thead>\n",
       "    <tr style=\"text-align: right;\">\n",
       "      <th></th>\n",
       "      <th>id</th>\n",
       "      <th>price</th>\n",
       "    </tr>\n",
       "  </thead>\n",
       "  <tbody>\n",
       "    <tr>\n",
       "      <th>1839</th>\n",
       "      <td>1839</td>\n",
       "      <td>6.779127</td>\n",
       "    </tr>\n",
       "  </tbody>\n",
       "</table>\n",
       "</div>"
      ],
      "text/plain": [
       "        id     price\n",
       "1839  1839  6.779127"
      ]
     },
     "execution_count": 65,
     "metadata": {},
     "output_type": "execute_result"
    }
   ],
   "source": [
    "print(df_for_submission.shape[0])\n",
    "df_for_submission.sample()"
   ]
  },
  {
   "cell_type": "code",
   "execution_count": 66,
   "metadata": {},
   "outputs": [],
   "source": [
    "df_for_submission.to_csv(\"my_submission1.csv\", index=False)\n",
    "\n",
    "# Just for feedback\n",
    "if platform == \"darwin\":\n",
    "    os.system(\"say redi for submission\")"
   ]
  },
  {
   "cell_type": "code",
   "execution_count": 67,
   "metadata": {},
   "outputs": [
    {
     "data": {
      "text/html": [
       "<div>\n",
       "<style scoped>\n",
       "    .dataframe tbody tr th:only-of-type {\n",
       "        vertical-align: middle;\n",
       "    }\n",
       "\n",
       "    .dataframe tbody tr th {\n",
       "        vertical-align: top;\n",
       "    }\n",
       "\n",
       "    .dataframe thead th {\n",
       "        text-align: right;\n",
       "    }\n",
       "</style>\n",
       "<table border=\"1\" class=\"dataframe\">\n",
       "  <thead>\n",
       "    <tr style=\"text-align: right;\">\n",
       "      <th></th>\n",
       "      <th>id</th>\n",
       "      <th>price</th>\n",
       "    </tr>\n",
       "  </thead>\n",
       "  <tbody>\n",
       "    <tr>\n",
       "      <th>0</th>\n",
       "      <td>0</td>\n",
       "      <td>7.957041</td>\n",
       "    </tr>\n",
       "    <tr>\n",
       "      <th>1</th>\n",
       "      <td>1</td>\n",
       "      <td>6.840350</td>\n",
       "    </tr>\n",
       "    <tr>\n",
       "      <th>2</th>\n",
       "      <td>2</td>\n",
       "      <td>7.127275</td>\n",
       "    </tr>\n",
       "    <tr>\n",
       "      <th>3</th>\n",
       "      <td>3</td>\n",
       "      <td>8.864605</td>\n",
       "    </tr>\n",
       "    <tr>\n",
       "      <th>4</th>\n",
       "      <td>4</td>\n",
       "      <td>7.315294</td>\n",
       "    </tr>\n",
       "  </tbody>\n",
       "</table>\n",
       "</div>"
      ],
      "text/plain": [
       "   id     price\n",
       "0   0  7.957041\n",
       "1   1  6.840350\n",
       "2   2  7.127275\n",
       "3   3  8.864605\n",
       "4   4  7.315294"
      ]
     },
     "execution_count": 67,
     "metadata": {},
     "output_type": "execute_result"
    }
   ],
   "source": [
    "df_for_submission.head()"
   ]
  },
  {
   "cell_type": "code",
   "execution_count": null,
   "metadata": {},
   "outputs": [
    {
     "data": {
      "text/html": [
       "<div>\n",
       "<style scoped>\n",
       "    .dataframe tbody tr th:only-of-type {\n",
       "        vertical-align: middle;\n",
       "    }\n",
       "\n",
       "    .dataframe tbody tr th {\n",
       "        vertical-align: top;\n",
       "    }\n",
       "\n",
       "    .dataframe thead th {\n",
       "        text-align: right;\n",
       "    }\n",
       "</style>\n",
       "<table border=\"1\" class=\"dataframe\">\n",
       "  <thead>\n",
       "    <tr style=\"text-align: right;\">\n",
       "      <th></th>\n",
       "      <th>id</th>\n",
       "      <th>price</th>\n",
       "    </tr>\n",
       "  </thead>\n",
       "  <tbody>\n",
       "    <tr>\n",
       "      <th>0</th>\n",
       "      <td>0</td>\n",
       "      <td>7.993303</td>\n",
       "    </tr>\n",
       "    <tr>\n",
       "      <th>1</th>\n",
       "      <td>1</td>\n",
       "      <td>6.744490</td>\n",
       "    </tr>\n",
       "    <tr>\n",
       "      <th>2</th>\n",
       "      <td>2</td>\n",
       "      <td>6.707629</td>\n",
       "    </tr>\n",
       "    <tr>\n",
       "      <th>3</th>\n",
       "      <td>3</td>\n",
       "      <td>8.780870</td>\n",
       "    </tr>\n",
       "    <tr>\n",
       "      <th>4</th>\n",
       "      <td>4</td>\n",
       "      <td>7.068462</td>\n",
       "    </tr>\n",
       "  </tbody>\n",
       "</table>\n",
       "</div>"
      ],
      "text/plain": [
       "   id     price\n",
       "0   0  7.993303\n",
       "1   1  6.744490\n",
       "2   2  6.707629\n",
       "3   3  8.780870\n",
       "4   4  7.068462"
      ]
     },
     "execution_count": 31,
     "metadata": {},
     "output_type": "execute_result"
    }
   ],
   "source": [
    "df_for_submission.head()"
   ]
  }
 ],
 "metadata": {
  "kernelspec": {
   "display_name": "ironhack",
   "language": "python",
   "name": "python3"
  },
  "language_info": {
   "codemirror_mode": {
    "name": "ipython",
    "version": 3
   },
   "file_extension": ".py",
   "mimetype": "text/x-python",
   "name": "python",
   "nbconvert_exporter": "python",
   "pygments_lexer": "ipython3",
   "version": "3.11.5"
  }
 },
 "nbformat": 4,
 "nbformat_minor": 2
}
